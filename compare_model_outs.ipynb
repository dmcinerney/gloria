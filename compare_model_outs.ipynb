{
 "cells": [
  {
   "cell_type": "code",
   "execution_count": 23,
   "id": "b3d72df0",
   "metadata": {},
   "outputs": [],
   "source": [
    "import os\n",
    "from jupyter_innotater import *\n",
    "import pandas as pd\n",
    "from gloria.datasets.visualize_and_evaluate_gloria_on_imagenome import OrSelector, RowBBoxSelector\n",
    "\n",
    "def visualize(model_paths, selector=None):\n",
    "    min_list_of_files = None\n",
    "    for model_path in model_paths.values():\n",
    "        fs = set(os.listdir(os.path.join(model_path, 'sentence_figures')))\n",
    "        df = pd.read_csv(os.path.join(model_path, 'sentences.csv'))\n",
    "        if selector is not None:\n",
    "            df = df[df.apply(selector, axis=1)]\n",
    "        fs = fs.intersection(set([dicom_sent_id + '.jpg' for dicom_sent_id in set(df.dicom_sent_id)]))\n",
    "        if min_list_of_files is None:\n",
    "            min_list_of_files = fs\n",
    "        else:\n",
    "            min_list_of_files = min_list_of_files.intersection(fs)\n",
    "    min_list_of_files = sorted(list(min_list_of_files))\n",
    "    return Innotater(\n",
    "        [\n",
    "            innotation\n",
    "            for model_name, model_path in model_paths.items()\n",
    "            for innotation in [\n",
    "                TextInnotation([model_name] * len(min_list_of_files)),\n",
    "                TextInnotation(min_list_of_files),\n",
    "                ImageInnotation(min_list_of_files, path=os.path.join(model_path, 'sentence_figures'))\n",
    "            ]\n",
    "        ],\n",
    "        []\n",
    "    )"
   ]
  },
  {
   "cell_type": "code",
   "execution_count": 24,
   "id": "a89f5fa6",
   "metadata": {},
   "outputs": [
    {
     "data": {
      "application/vnd.jupyter.widget-view+json": {
       "model_id": "009e40c2eb62469bb5cf5541a2e0b933",
       "version_major": 2,
       "version_minor": 0
      },
      "text/plain": [
       "Innotater(children=(HBox(children=(VBox(children=(Textarea(value='original', disabled=True), Textarea(value='d…"
      ]
     },
     "metadata": {},
     "output_type": "display_data"
    }
   ],
   "source": [
    "model_paths = {'original': 'annotations_gloria_original_valid',\n",
    "#                'original_random': 'annotations_gloria_original_valid_random_sentences',\n",
    "#                'original_donkey': 'annotations_gloria_original_valid_donkey',\n",
    "#                'original_neg': 'annotations_gloria_original_valid_neg'\n",
    "              }\n",
    "selector = OrSelector(\n",
    "             RowBBoxSelector(contains={'left lung'}, does_not_contain={'right lung'}),\n",
    "             RowBBoxSelector(contains={'right lung'}, does_not_contain={'left lung'})\n",
    "         )\n",
    "visualize(model_paths, selector=selector)"
   ]
  },
  {
   "cell_type": "code",
   "execution_count": 25,
   "id": "145d0e51",
   "metadata": {},
   "outputs": [
    {
     "data": {
      "application/vnd.jupyter.widget-view+json": {
       "model_id": "aeda5e1c211243dfb50284c5c97ac88d",
       "version_major": 2,
       "version_minor": 0
      },
      "text/plain": [
       "Innotater(children=(HBox(children=(VBox(children=(Textarea(value='original', disabled=True), Textarea(value='d…"
      ]
     },
     "metadata": {},
     "output_type": "display_data"
    }
   ],
   "source": [
    "model_paths = {'original': 'annotations_gloria_original_valid',\n",
    "#                'original_random': 'annotations_gloria_original_valid_random_sentences',\n",
    "#                'original_donkey': 'annotations_gloria_original_valid_donkey',\n",
    "#                'original_neg': 'annotations_gloria_original_valid_neg'\n",
    "              }\n",
    "selector = OrSelector(\n",
    "             RowBBoxSelector(contains={'left lung'}, does_not_contain={'right lung'}),\n",
    "             RowBBoxSelector(contains={'right lung'}, does_not_contain={'left lung'})\n",
    "         )\n",
    "visualize(model_paths, selector=selector)"
   ]
  },
  {
   "cell_type": "code",
   "execution_count": 26,
   "id": "be101583",
   "metadata": {},
   "outputs": [
    {
     "data": {
      "application/vnd.jupyter.widget-view+json": {
       "model_id": "e15d81c6e1a14c7db818a2838de9d724",
       "version_major": 2,
       "version_minor": 0
      },
      "text/plain": [
       "Innotater(children=(HBox(children=(VBox(children=(Textarea(value='original', disabled=True), Textarea(value='d…"
      ]
     },
     "metadata": {},
     "output_type": "display_data"
    }
   ],
   "source": [
    "model_paths = {'original': 'annotations_gloria_original_valid',\n",
    "#                'original_random': 'annotations_gloria_original_valid_random_sentences',\n",
    "#                'original_donkey': 'annotations_gloria_original_valid_donkey',\n",
    "#                'original_neg': 'annotations_gloria_original_valid_neg'\n",
    "              }\n",
    "selector = OrSelector(\n",
    "             RowBBoxSelector(contains={'left lung'}, does_not_contain={'right lung'}),\n",
    "             RowBBoxSelector(contains={'right lung'}, does_not_contain={'left lung'})\n",
    "         )\n",
    "visualize(model_paths, selector=selector)"
   ]
  },
  {
   "cell_type": "code",
   "execution_count": 27,
   "id": "5b57d72e",
   "metadata": {},
   "outputs": [
    {
     "data": {
      "application/vnd.jupyter.widget-view+json": {
       "model_id": "112ceffb47724634b260a3815ac28427",
       "version_major": 2,
       "version_minor": 0
      },
      "text/plain": [
       "Innotater(children=(HBox(children=(VBox(children=(Textarea(value='original', disabled=True), Textarea(value='d…"
      ]
     },
     "metadata": {},
     "output_type": "display_data"
    }
   ],
   "source": [
    "model_paths = {'original': 'annotations_gloria_original_valid',\n",
    "#                'original_random': 'annotations_gloria_original_valid_random_sentences',\n",
    "#                'original_donkey': 'annotations_gloria_original_valid_donkey',\n",
    "#                'original_neg': 'annotations_gloria_original_valid_neg'\n",
    "              }\n",
    "selector = OrSelector(\n",
    "             RowBBoxSelector(contains={'left lung'}, does_not_contain={'right lung'}),\n",
    "             RowBBoxSelector(contains={'right lung'}, does_not_contain={'left lung'})\n",
    "         )\n",
    "visualize(model_paths, selector=selector)"
   ]
  },
  {
   "cell_type": "code",
   "execution_count": 28,
   "id": "64e0933f",
   "metadata": {},
   "outputs": [
    {
     "data": {
      "application/vnd.jupyter.widget-view+json": {
       "model_id": "8932c053fff542bba8bfcb1bdb919756",
       "version_major": 2,
       "version_minor": 0
      },
      "text/plain": [
       "Innotater(children=(HBox(children=(VBox(children=(Textarea(value='original', disabled=True), Textarea(value='d…"
      ]
     },
     "metadata": {},
     "output_type": "display_data"
    }
   ],
   "source": [
    "model_paths = {'original': 'annotations_gloria_original_valid',\n",
    "#                'original_random': 'annotations_gloria_original_valid_random_sentences',\n",
    "#                'original_donkey': 'annotations_gloria_original_valid_donkey',\n",
    "#                'original_neg': 'annotations_gloria_original_valid_neg'\n",
    "              }\n",
    "selector = OrSelector(\n",
    "             RowBBoxSelector(contains={'left lung'}, does_not_contain={'right lung'}),\n",
    "             RowBBoxSelector(contains={'right lung'}, does_not_contain={'left lung'})\n",
    "         )\n",
    "visualize(model_paths, selector=selector)"
   ]
  },
  {
   "cell_type": "code",
   "execution_count": 34,
   "id": "1e62f83c",
   "metadata": {},
   "outputs": [
    {
     "data": {
      "application/vnd.jupyter.widget-view+json": {
       "model_id": "12e2c05ba0b4461781a8289c26f59609",
       "version_major": 2,
       "version_minor": 0
      },
      "text/plain": [
       "Innotater(children=(HBox(children=(VBox(children=(Textarea(value='original', disabled=True), Textarea(value='d…"
      ]
     },
     "metadata": {},
     "output_type": "display_data"
    }
   ],
   "source": [
    "model_paths = {'original': 'annotations_gloria_original_valid',\n",
    "               'original_small': 'annotations_gloria_original_small_valid',\n",
    "#                'original_random': 'annotations_gloria_original_valid_random_sentences',\n",
    "#                'original_donkey': 'annotations_gloria_original_valid_donkey',\n",
    "#                'original_neg': 'annotations_gloria_original_valid_neg'\n",
    "              }\n",
    "selector = OrSelector(\n",
    "             RowBBoxSelector(contains={'left lung'}, does_not_contain={'right lung'}),\n",
    "             RowBBoxSelector(contains={'right lung'}, does_not_contain={'left lung'})\n",
    "         )\n",
    "visualize(model_paths, selector=selector)"
   ]
  },
  {
   "cell_type": "code",
   "execution_count": 36,
   "id": "406ec8f7",
   "metadata": {},
   "outputs": [
    {
     "data": {
      "application/vnd.jupyter.widget-view+json": {
       "model_id": "91281435ad004a279b381983eb4f2b54",
       "version_major": 2,
       "version_minor": 0
      },
      "text/plain": [
       "Innotater(children=(HBox(children=(VBox(children=(Textarea(value='original', disabled=True), Textarea(value='d…"
      ]
     },
     "metadata": {},
     "output_type": "display_data"
    }
   ],
   "source": [
    "model_paths = {'original': 'annotations_gloria_original_valid',\n",
    "#                'original_random': 'annotations_gloria_original_valid_random_sentences',\n",
    "               'original_donkey': 'annotations_gloria_original_valid_donkey',\n",
    "#                'original_neg': 'annotations_gloria_original_valid_neg'\n",
    "              }\n",
    "# selector = OrSelector(\n",
    "#              RowBBoxSelector(contains={'left lung'}, does_not_contain={'right lung'}),\n",
    "#              RowBBoxSelector(contains={'right lung'}, does_not_contain={'left lung'})\n",
    "#          )\n",
    "selector=None\n",
    "visualize(model_paths, selector=selector)"
   ]
  },
  {
   "cell_type": "code",
   "execution_count": null,
   "id": "49b2800e",
   "metadata": {},
   "outputs": [],
   "source": []
  }
 ],
 "metadata": {
  "kernelspec": {
   "display_name": "Python 3 (ipykernel)",
   "language": "python",
   "name": "python3"
  },
  "language_info": {
   "codemirror_mode": {
    "name": "ipython",
    "version": 3
   },
   "file_extension": ".py",
   "mimetype": "text/x-python",
   "name": "python",
   "nbconvert_exporter": "python",
   "pygments_lexer": "ipython3",
   "version": "3.8.5"
  }
 },
 "nbformat": 4,
 "nbformat_minor": 5
}
