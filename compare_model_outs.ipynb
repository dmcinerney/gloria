{
 "cells": [
  {
   "cell_type": "code",
   "execution_count": 1,
   "id": "b3d72df0",
   "metadata": {},
   "outputs": [
    {
     "data": {
      "application/vnd.jupyter.widget-view+json": {
       "model_id": "3aad2686b1e7400591b812d31e4d2222",
       "version_major": 2,
       "version_minor": 0
      },
      "text/plain": [
       "Innotater(children=(HBox(children=(VBox(children=(Textarea(value='original', disabled=True), ImagePad(value=b'…"
      ]
     },
     "metadata": {},
     "output_type": "display_data"
    }
   ],
   "source": [
    "import os\n",
    "from jupyter_innotater import *\n",
    "\n",
    "allfiles = [f for f in os.listdir('saved_figures') if f.startswith('instance')]\n",
    "models = ['original', 'new']\n",
    "model_files = {m: sorted([f for f in allfiles if f.split('__')[1] == m]) for m in models}\n",
    "Innotater(\n",
    "    [\n",
    "        innotation\n",
    "        for model_name, files in model_files.items()\n",
    "        for innotation in [\n",
    "            TextInnotation([model_name] * len(files)),\n",
    "            ImageInnotation(files, path='saved_figures')\n",
    "        ]\n",
    "    ],\n",
    "    []\n",
    ")"
   ]
  },
  {
   "cell_type": "code",
   "execution_count": null,
   "id": "a89f5fa6",
   "metadata": {},
   "outputs": [],
   "source": []
  }
 ],
 "metadata": {
  "kernelspec": {
   "display_name": "Python 3 (ipykernel)",
   "language": "python",
   "name": "python3"
  },
  "language_info": {
   "codemirror_mode": {
    "name": "ipython",
    "version": 3
   },
   "file_extension": ".py",
   "mimetype": "text/x-python",
   "name": "python",
   "nbconvert_exporter": "python",
   "pygments_lexer": "ipython3",
   "version": "3.8.5"
  }
 },
 "nbformat": 4,
 "nbformat_minor": 5
}
