{
 "cells": [
  {
   "cell_type": "code",
   "execution_count": 2,
   "id": "28b44415",
   "metadata": {},
   "outputs": [],
   "source": [
    "from gloria.datasets.mimic_data import ImaGenomeDataModule, MimicCxrFiler, ImaGenomeFiler\n",
    "import os"
   ]
  },
  {
   "cell_type": "code",
   "execution_count": 3,
   "id": "799f109d",
   "metadata": {},
   "outputs": [],
   "source": [
    "mimic_cxr_filer = MimicCxrFiler(\n",
    "    download_directory='/scratch/mcinerney.de/mimic-cxr', physio_username='dmcinerney')\n",
    "imagenome_filer = ImaGenomeFiler(\n",
    "    download_directory='/scratch/mcinerney.de/imagenome', physio_username='dmcinerney',\n",
    "    physio_password=mimic_cxr_filer.password)"
   ]
  },
  {
   "cell_type": "code",
   "execution_count": 19,
   "id": "1492526f",
   "metadata": {},
   "outputs": [
    {
     "name": "stdout",
     "output_type": "stream",
     "text": [
      "downloaded\n",
      "extracted\n",
      "Downloading test None (47393):\n",
      "parallelizing\n",
      "starting processes:\n"
     ]
    },
    {
     "name": "stderr",
     "output_type": "stream",
     "text": [
      "  3%|████                                                                                                                                                             | 318/12538 [00:00<00:03, 3179.65it/s]"
     ]
    },
    {
     "name": "stdout",
     "output_type": "stream",
     "text": [
      "Setting one record's processing to verbose to serve as an example.\n"
     ]
    },
    {
     "name": "stderr",
     "output_type": "stream",
     "text": [
      "100%|███████████████████████████████████████████████████████████████████████████████████████████████████████████████████████████████████████████████████████████████| 12538/12538 [00:04<00:00, 3123.46it/s]\n"
     ]
    },
    {
     "name": "stdout",
     "output_type": "stream",
     "text": [
      "finishing processes:\n"
     ]
    },
    {
     "name": "stderr",
     "output_type": "stream",
     "text": [
      "\r",
      "  0%|                                                                                                                                                                             | 0/12538 [00:00<?, ?it/s]"
     ]
    },
    {
     "name": "stdout",
     "output_type": "stream",
     "text": [
      "\n",
      "Filter dicoms so view position is '['PA', 'AP']':\n"
     ]
    },
    {
     "name": "stderr",
     "output_type": "stream",
     "text": [
      "100%|█████████████████████████████████████████████████████████████████████████████████████████████████████████████████████████████████████████████████████████████████████████| 4/4 [00:00<00:00, 99.80it/s]\n"
     ]
    },
    {
     "name": "stdout",
     "output_type": "stream",
     "text": [
      "\n",
      "Save dicoms to pytorch files:\n"
     ]
    },
    {
     "name": "stderr",
     "output_type": "stream",
     "text": [
      "100%|█████████████████████████████████████████████████████████████████████████████████████████████████████████████████████████████████████████████████████████████████████████| 4/4 [00:00<00:00, 29.51it/s]\n"
     ]
    },
    {
     "name": "stdout",
     "output_type": "stream",
     "text": [
      "\n",
      "Save reports:\n"
     ]
    },
    {
     "name": "stderr",
     "output_type": "stream",
     "text": [
      "100%|████████████████████████████████████████████████████████████████████████████████████████████████████████████████████████████████████████████████████████████████████████| 4/4 [00:00<00:00, 107.01it/s]\n"
     ]
    },
    {
     "name": "stdout",
     "output_type": "stream",
     "text": [
      "\n"
     ]
    },
    {
     "name": "stderr",
     "output_type": "stream",
     "text": [
      "100%|████████████████████████████████████████████████████████████████████████████████████████████████████████████████████████████████████████████████████████████████| 12538/12538 [00:18<00:00, 663.21it/s]\n"
     ]
    },
    {
     "name": "stdout",
     "output_type": "stream",
     "text": [
      "Preprocessing objects\n"
     ]
    },
    {
     "name": "stderr",
     "output_type": "stream",
     "text": [
      "100%|████████████████████████████████████████████████████████████████████████████████████████████████████████████████████████████████████████████████████████████████| 47393/47393 [01:04<00:00, 731.38it/s]\n"
     ]
    }
   ],
   "source": [
    "dm = ImaGenomeDataModule(\n",
    "    mimic_cxr_filer, imagenome_filer, batch_size=8, num_workers=5, collate_fn=None,\n",
    "    get_images=True, get_reports=True, force=False, parallel=True,\n",
    "    num_preprocessing_workers=os.cpu_count(), chunksize=1, split_slices='test', gold_test=False)\n",
    "\n",
    "dm.prepare_data()"
   ]
  },
  {
   "cell_type": "code",
   "execution_count": 5,
   "id": "f2a8a3fd",
   "metadata": {},
   "outputs": [
    {
     "name": "stdout",
     "output_type": "stream",
     "text": [
      "getting dataset sentence ids\n"
     ]
    },
    {
     "name": "stderr",
     "output_type": "stream",
     "text": [
      "100%|████████████████████████████████████████████████████████████████████████████████████████████████████████████████████████████████████████████████████████████████| 23953/23953 [00:45<00:00, 523.76it/s]\n"
     ]
    }
   ],
   "source": [
    "valid = dm.get_dataset('valid')"
   ]
  },
  {
   "cell_type": "code",
   "execution_count": 6,
   "id": "5683c2bc",
   "metadata": {},
   "outputs": [
    {
     "data": {
      "text/plain": [
       "23953"
      ]
     },
     "execution_count": 6,
     "metadata": {},
     "output_type": "execute_result"
    }
   ],
   "source": [
    "len(valid.df)"
   ]
  },
  {
   "cell_type": "code",
   "execution_count": 7,
   "id": "515e68d5",
   "metadata": {},
   "outputs": [
    {
     "data": {
      "text/plain": [
       "125930"
      ]
     },
     "execution_count": 7,
     "metadata": {},
     "output_type": "execute_result"
    }
   ],
   "source": [
    "len(valid)"
   ]
  },
  {
   "cell_type": "code",
   "execution_count": 8,
   "id": "e86f7ee3",
   "metadata": {},
   "outputs": [
    {
     "data": {
      "text/plain": [
       "'image'"
      ]
     },
     "execution_count": 8,
     "metadata": {},
     "output_type": "execute_result"
    }
   ],
   "source": [
    "valid.group_by"
   ]
  },
  {
   "cell_type": "code",
   "execution_count": 9,
   "id": "5ac31902",
   "metadata": {},
   "outputs": [
    {
     "data": {
      "text/plain": [
       "True"
      ]
     },
     "execution_count": 9,
     "metadata": {},
     "output_type": "execute_result"
    }
   ],
   "source": [
    "valid.group_by_sentence"
   ]
  },
  {
   "cell_type": "code",
   "execution_count": 17,
   "id": "92ecc3e3",
   "metadata": {},
   "outputs": [
    {
     "data": {
      "text/plain": [
       "{17708545: {50391163: {'images': {'00038f14-86928b2a-f3e34fd7-d44ecdff-5b8660a8': tensor([[  0, 216, 216,  ...,  92,  94,  93],\n",
       "            [  0, 214, 207,  ...,  94,  92,  92],\n",
       "            [  0, 214, 204,  ...,  92,  89,  91],\n",
       "            ...,\n",
       "            [  0, 377, 314,  ...,  82,  84,  82],\n",
       "            [  0, 393, 456,  ...,  82,  80,  82],\n",
       "            [  0, 395, 397,  ...,  81,  80,  82]])},\n",
       "   'report': '                                 FINAL REPORT\\n EXAMINATION:  CHEST (PORTABLE AP)\\n \\n INDICATION:  ___ year old man with neck wound  // position of ETT\\n \\n COMPARISON:  ___\\n \\n IMPRESSION: \\n \\n As compared to the previous radiograph, no relevant change is seen.  The\\n endotracheal tube is still high, with the tip projecting approximately 6 cm\\n above the carinal. The tip of the nasogastric tube is at the gastroesophageal\\n junction, the tube should be advanced by approximately 5 cm. The lung\\n parenchyma appears unremarkable, taking into account slight patient rotation\\n to the right. Normal size of the cardiac silhouette.  No pneumothorax.\\n',\n",
       "   'index': 0,\n",
       "   'sentence': 'The\\n endotracheal tube is still high, with the tip projecting approximately 6 cm\\n above the carinal.',\n",
       "   'sent_id': '50391163|6',\n",
       "   'objects': {'00038f14-86928b2a-f3e34fd7-d44ecdff-5b8660a8': {'bbox_to_sents': {'right lung': {'coord_original': [108,\n",
       "        367,\n",
       "        1048,\n",
       "        1048],\n",
       "       'sentence_ids': ['50391163|8',\n",
       "        '50391163|8',\n",
       "        '50391163|8',\n",
       "        '50391163|10'],\n",
       "       'sentences': ['The lung\\n parenchyma appears unremarkable, taking into account slight patient rotation\\n to the right.',\n",
       "        'The lung\\n parenchyma appears unremarkable, taking into account slight patient rotation\\n to the right.',\n",
       "        'The lung\\n parenchyma appears unremarkable, taking into account slight patient rotation\\n to the right.',\n",
       "        'No pneumothorax.'],\n",
       "       'labels': ['lung opacity', 'normal', 'rotated', 'pneumothorax'],\n",
       "       'contexts': ['no', 'yes', 'yes', 'no']},\n",
       "      'left lung': {'coord_original': [1225, 326, 2287, 2287],\n",
       "       'sentence_ids': ['50391163|10', '50391163|8'],\n",
       "       'sentences': ['No pneumothorax.',\n",
       "        'The lung\\n parenchyma appears unremarkable, taking into account slight patient rotation\\n to the right.'],\n",
       "       'labels': ['pneumothorax', 'rotated'],\n",
       "       'contexts': ['no', 'yes']},\n",
       "      'mediastinum': {'coord_original': [885, 585, 1851, 1851],\n",
       "       'sentence_ids': ['50391163|7', '50391163|8'],\n",
       "       'sentences': ['The tip of the nasogastric tube is at the gastroesophageal\\n junction, the tube should be advanced by approximately 5 cm.',\n",
       "        'The lung\\n parenchyma appears unremarkable, taking into account slight patient rotation\\n to the right.'],\n",
       "       'labels': ['enteric tube', 'rotated'],\n",
       "       'contexts': ['yes', 'yes']},\n",
       "      'cardiac silhouette': {'coord_original': [885, 1470, 1851, 1851],\n",
       "       'sentence_ids': ['50391163|9', '50391163|9'],\n",
       "       'sentences': ['Normal size of the cardiac silhouette.',\n",
       "        'Normal size of the cardiac silhouette.'],\n",
       "       'labels': ['enlarged cardiac silhouette', 'normal'],\n",
       "       'contexts': ['no', 'yes']},\n",
       "      'trachea': {'coord_original': [857, 95, 1334, 1334],\n",
       "       'sentence_ids': ['50391163|6'],\n",
       "       'sentences': ['The\\n endotracheal tube is still high, with the tip projecting approximately 6 cm\\n above the carinal.'],\n",
       "       'labels': ['endotracheal tube'],\n",
       "       'contexts': ['yes']},\n",
       "      'right clavicle': {'coord_original': [27, 422, 966, 966],\n",
       "       'sentence_ids': ['50391163|8'],\n",
       "       'sentences': ['The lung\\n parenchyma appears unremarkable, taking into account slight patient rotation\\n to the right.'],\n",
       "       'labels': ['rotated'],\n",
       "       'contexts': ['yes']},\n",
       "      'left clavicle': {'coord_original': [1279, 149, 1987, 1987],\n",
       "       'sentence_ids': ['50391163|8'],\n",
       "       'sentences': ['The lung\\n parenchyma appears unremarkable, taking into account slight patient rotation\\n to the right.'],\n",
       "       'labels': ['rotated'],\n",
       "       'contexts': ['yes']},\n",
       "      'spine': {'coord_original': [953, 0, 1307, 1307],\n",
       "       'sentence_ids': ['50391163|8'],\n",
       "       'sentences': ['The lung\\n parenchyma appears unremarkable, taking into account slight patient rotation\\n to the right.'],\n",
       "       'labels': ['rotated'],\n",
       "       'contexts': ['yes']},\n",
       "      'carina': {'coord_original': [1021, 1184, 1170, 1170],\n",
       "       'sentence_ids': ['50391163|6'],\n",
       "       'sentences': ['The\\n endotracheal tube is still high, with the tip projecting approximately 6 cm\\n above the carinal.'],\n",
       "       'labels': ['endotracheal tube'],\n",
       "       'contexts': ['yes']},\n",
       "      'abdomen': {'coord_original': [108, 2110, 2287, 2287],\n",
       "       'sentence_ids': ['50391163|7'],\n",
       "       'sentences': ['The tip of the nasogastric tube is at the gastroesophageal\\n junction, the tube should be advanced by approximately 5 cm.'],\n",
       "       'labels': ['enteric tube'],\n",
       "       'contexts': ['yes']}},\n",
       "     'sent_to_bboxes': {'50391163|8': {'sentence': 'The lung\\n parenchyma appears unremarkable, taking into account slight patient rotation\\n to the right.',\n",
       "       'bboxes': ['right lung',\n",
       "        'right lung',\n",
       "        'right lung',\n",
       "        'left lung',\n",
       "        'mediastinum',\n",
       "        'right clavicle',\n",
       "        'left clavicle',\n",
       "        'spine'],\n",
       "       'coords_original': [[108, 367, 1048, 1048],\n",
       "        [108, 367, 1048, 1048],\n",
       "        [108, 367, 1048, 1048],\n",
       "        [1225, 326, 2287, 2287],\n",
       "        [885, 585, 1851, 1851],\n",
       "        [27, 422, 966, 966],\n",
       "        [1279, 149, 1987, 1987],\n",
       "        [953, 0, 1307, 1307]],\n",
       "       'labels': ['lung opacity',\n",
       "        'normal',\n",
       "        'rotated',\n",
       "        'rotated',\n",
       "        'rotated',\n",
       "        'rotated',\n",
       "        'rotated',\n",
       "        'rotated'],\n",
       "       'contexts': ['no', 'yes', 'yes', 'yes', 'yes', 'yes', 'yes', 'yes']},\n",
       "      '50391163|10': {'sentence': 'No pneumothorax.',\n",
       "       'bboxes': ['right lung', 'left lung'],\n",
       "       'coords_original': [[108, 367, 1048, 1048], [1225, 326, 2287, 2287]],\n",
       "       'labels': ['pneumothorax', 'pneumothorax'],\n",
       "       'contexts': ['no', 'no']},\n",
       "      '50391163|7': {'sentence': 'The tip of the nasogastric tube is at the gastroesophageal\\n junction, the tube should be advanced by approximately 5 cm.',\n",
       "       'bboxes': ['mediastinum', 'abdomen'],\n",
       "       'coords_original': [[885, 585, 1851, 1851], [108, 2110, 2287, 2287]],\n",
       "       'labels': ['enteric tube', 'enteric tube'],\n",
       "       'contexts': ['yes', 'yes']},\n",
       "      '50391163|9': {'sentence': 'Normal size of the cardiac silhouette.',\n",
       "       'bboxes': ['cardiac silhouette', 'cardiac silhouette'],\n",
       "       'coords_original': [[885, 1470, 1851, 1851], [885, 1470, 1851, 1851]],\n",
       "       'labels': ['enlarged cardiac silhouette', 'normal'],\n",
       "       'contexts': ['no', 'yes']},\n",
       "      '50391163|6': {'sentence': 'The\\n endotracheal tube is still high, with the tip projecting approximately 6 cm\\n above the carinal.',\n",
       "       'bboxes': ['trachea', 'carina'],\n",
       "       'coords_original': [[857, 95, 1334, 1334], [1021, 1184, 1170, 1170]],\n",
       "       'labels': ['endotracheal tube', 'endotracheal tube'],\n",
       "       'contexts': ['yes', 'yes']}}}}}}}"
      ]
     },
     "execution_count": 17,
     "metadata": {},
     "output_type": "execute_result"
    }
   ],
   "source": [
    "valid[0]"
   ]
  },
  {
   "cell_type": "code",
   "execution_count": null,
   "id": "cb66ef91",
   "metadata": {},
   "outputs": [],
   "source": []
  }
 ],
 "metadata": {
  "kernelspec": {
   "display_name": "Python 3 (ipykernel)",
   "language": "python",
   "name": "python3"
  },
  "language_info": {
   "codemirror_mode": {
    "name": "ipython",
    "version": 3
   },
   "file_extension": ".py",
   "mimetype": "text/x-python",
   "name": "python",
   "nbconvert_exporter": "python",
   "pygments_lexer": "ipython3",
   "version": "3.8.5"
  }
 },
 "nbformat": 4,
 "nbformat_minor": 5
}
