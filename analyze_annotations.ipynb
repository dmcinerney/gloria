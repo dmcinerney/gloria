{
 "cells": [
  {
   "cell_type": "code",
   "execution_count": 1,
   "metadata": {},
   "outputs": [],
   "source": [
    "import pandas as pd\n",
    "import matplotlib.pyplot as plt\n",
    "import seaborn as sns\n",
    "import numpy as np"
   ]
  },
  {
   "cell_type": "code",
   "execution_count": 26,
   "metadata": {},
   "outputs": [],
   "source": [
    "# df = pd.read_csv('annotations/geoff_5_12_2022.csv')\n",
    "df = pd.read_csv('annotations/geoff_5_16_2022_final.csv')\n",
    "df['Recall'] = df['has_good_recall']\n",
    "del df['has_good_recall']\n",
    "df['Precision'] = df['has_good_precision']\n",
    "del df['has_good_precision']\n",
    "df['Intuitiveness'] = df['is_intuitive']\n",
    "del df['is_intuitive']\n",
    "models = {\n",
    "    'pretrained': 'GLoRIA',\n",
    "    'baseline': 'Retrained',\n",
    "    'wordmask': 'Retrained w/ Word Masking',\n",
    "    'clinicalmask': 'Retrained w/ Clinical Masking',\n",
    "    'noattn': 'Retrained w/ \\\"No Attn\\\" Token',\n",
    "    'abnormal': 'Retrained w/ Abnormal',\n",
    "    'baseline_supervised': 'Retrained and 30-Shot Finetuned',\n",
    "}\n",
    "df['Model'] = [models[m] for m in df['checkpoint_name']]\n",
    "del df['checkpoint_name']\n",
    "df['count'] = 1\n",
    "df = pd.concat([df[df.Model == model] for model in models.values()])\n",
    "\n",
    "def print_latex_table(df):\n",
    "    print('Model & Recall & Precision & Intuitiveness\\n\\hline')\n",
    "    for model in models.values():\n",
    "        if len(df[df.Model == model]) == 1:\n",
    "            row = df[df.Model == model].iloc[0]\n",
    "            print('%s & %s & %s & %s \\\\\\\\' % (row.Model, row.Recall, row.Precision, row.Intuitiveness))\n"
   ]
  },
  {
   "cell_type": "code",
   "execution_count": 27,
   "metadata": {
    "scrolled": true
   },
   "outputs": [
    {
     "data": {
      "text/html": [
       "<div>\n",
       "<style scoped>\n",
       "    .dataframe tbody tr th:only-of-type {\n",
       "        vertical-align: middle;\n",
       "    }\n",
       "\n",
       "    .dataframe tbody tr th {\n",
       "        vertical-align: top;\n",
       "    }\n",
       "\n",
       "    .dataframe thead th {\n",
       "        text-align: right;\n",
       "    }\n",
       "</style>\n",
       "<table border=\"1\" class=\"dataframe\">\n",
       "  <thead>\n",
       "    <tr style=\"text-align: right;\">\n",
       "      <th></th>\n",
       "      <th>dicom_sent_id</th>\n",
       "      <th>dicom_id</th>\n",
       "      <th>sent_id</th>\n",
       "      <th>prompt</th>\n",
       "      <th>is_custom_prompt</th>\n",
       "      <th>no_attn_score</th>\n",
       "      <th>Recall</th>\n",
       "      <th>Precision</th>\n",
       "      <th>Intuitiveness</th>\n",
       "      <th>Model</th>\n",
       "      <th>count</th>\n",
       "    </tr>\n",
       "  </thead>\n",
       "  <tbody>\n",
       "    <tr>\n",
       "      <th>3</th>\n",
       "      <td>dicom_67bd451d-6f695b32-b8ce2be9-23c30cae-f6f9...</td>\n",
       "      <td>67bd451d-6f695b32-b8ce2be9-23c30cae-f6f94270</td>\n",
       "      <td>53209617|7</td>\n",
       "      <td>Small left pleural effusion is likely.</td>\n",
       "      <td>False</td>\n",
       "      <td>NaN</td>\n",
       "      <td>4</td>\n",
       "      <td>1</td>\n",
       "      <td>1</td>\n",
       "      <td>GLoRIA</td>\n",
       "      <td>1</td>\n",
       "    </tr>\n",
       "    <tr>\n",
       "      <th>4</th>\n",
       "      <td>dicom_6bcf7ea1-7d6d22d2-acc8b8c1-846af6af-7884...</td>\n",
       "      <td>6bcf7ea1-7d6d22d2-acc8b8c1-846af6af-78841c71</td>\n",
       "      <td>59788377|9</td>\n",
       "      <td>The aorta is calcified.</td>\n",
       "      <td>False</td>\n",
       "      <td>NaN</td>\n",
       "      <td>1</td>\n",
       "      <td>1</td>\n",
       "      <td>1</td>\n",
       "      <td>GLoRIA</td>\n",
       "      <td>1</td>\n",
       "    </tr>\n",
       "    <tr>\n",
       "      <th>10</th>\n",
       "      <td>dicom_2ab3e8df-5ac8ae5f-70507d62-07ff69fd-f892...</td>\n",
       "      <td>2ab3e8df-5ac8ae5f-70507d62-07ff69fd-f8926559</td>\n",
       "      <td>51426244|7</td>\n",
       "      <td>Mild cardiomegaly is noted.</td>\n",
       "      <td>False</td>\n",
       "      <td>NaN</td>\n",
       "      <td>5</td>\n",
       "      <td>1</td>\n",
       "      <td>1</td>\n",
       "      <td>GLoRIA</td>\n",
       "      <td>1</td>\n",
       "    </tr>\n",
       "    <tr>\n",
       "      <th>14</th>\n",
       "      <td>dicom_656a0ed5-94e2b62f-3116829b-785e87f2-aead...</td>\n",
       "      <td>656a0ed5-94e2b62f-3116829b-785e87f2-aead6091</td>\n",
       "      <td>59701436|4</td>\n",
       "      <td>Right hemidiaphragm is moderately elevated, a ...</td>\n",
       "      <td>False</td>\n",
       "      <td>NaN</td>\n",
       "      <td>1</td>\n",
       "      <td>1</td>\n",
       "      <td>1</td>\n",
       "      <td>GLoRIA</td>\n",
       "      <td>1</td>\n",
       "    </tr>\n",
       "    <tr>\n",
       "      <th>18</th>\n",
       "      <td>dicom_600b88e8-cdeb206f-24980db9-a88d5336-a9ab...</td>\n",
       "      <td>600b88e8-cdeb206f-24980db9-a88d5336-a9ab05ba</td>\n",
       "      <td>53343765|5</td>\n",
       "      <td>Extensive consolidation in the left lung also ...</td>\n",
       "      <td>False</td>\n",
       "      <td>NaN</td>\n",
       "      <td>4</td>\n",
       "      <td>2</td>\n",
       "      <td>1</td>\n",
       "      <td>GLoRIA</td>\n",
       "      <td>1</td>\n",
       "    </tr>\n",
       "    <tr>\n",
       "      <th>...</th>\n",
       "      <td>...</td>\n",
       "      <td>...</td>\n",
       "      <td>...</td>\n",
       "      <td>...</td>\n",
       "      <td>...</td>\n",
       "      <td>...</td>\n",
       "      <td>...</td>\n",
       "      <td>...</td>\n",
       "      <td>...</td>\n",
       "      <td>...</td>\n",
       "      <td>...</td>\n",
       "    </tr>\n",
       "    <tr>\n",
       "      <th>328</th>\n",
       "      <td>dicom_2d40e27c-e780bb33-132a089e-a59bbe05-5640...</td>\n",
       "      <td>2d40e27c-e780bb33-132a089e-a59bbe05-564002e6</td>\n",
       "      <td>57148763|12</td>\n",
       "      <td>Chronic AP window calcified lymph node would n...</td>\n",
       "      <td>False</td>\n",
       "      <td>NaN</td>\n",
       "      <td>5</td>\n",
       "      <td>1</td>\n",
       "      <td>2</td>\n",
       "      <td>Retrained and 30-Shot Finetuned</td>\n",
       "      <td>1</td>\n",
       "    </tr>\n",
       "    <tr>\n",
       "      <th>334</th>\n",
       "      <td>dicom_7325a4ad-56c62704-bb44d9f9-a7bc288f-b195...</td>\n",
       "      <td>7325a4ad-56c62704-bb44d9f9-a7bc288f-b195b550</td>\n",
       "      <td>58313672|6</td>\n",
       "      <td>Increasing opacities in the right base could r...</td>\n",
       "      <td>False</td>\n",
       "      <td>NaN</td>\n",
       "      <td>1</td>\n",
       "      <td>1</td>\n",
       "      <td>1</td>\n",
       "      <td>Retrained and 30-Shot Finetuned</td>\n",
       "      <td>1</td>\n",
       "    </tr>\n",
       "    <tr>\n",
       "      <th>339</th>\n",
       "      <td>dicom_1290ac09-084d443b-579443d1-e276c5df-2d4e...</td>\n",
       "      <td>1290ac09-084d443b-579443d1-e276c5df-2d4ee178</td>\n",
       "      <td>50889933|10</td>\n",
       "      <td>Slight blunting of the posterior costophrenic ...</td>\n",
       "      <td>False</td>\n",
       "      <td>NaN</td>\n",
       "      <td>1</td>\n",
       "      <td>1</td>\n",
       "      <td>1</td>\n",
       "      <td>Retrained and 30-Shot Finetuned</td>\n",
       "      <td>1</td>\n",
       "    </tr>\n",
       "    <tr>\n",
       "      <th>340</th>\n",
       "      <td>dicom_10cb57fc-b95678a1-0b994bae-d6efb434-5710...</td>\n",
       "      <td>10cb57fc-b95678a1-0b994bae-d6efb434-57103f95</td>\n",
       "      <td>59012265|16</td>\n",
       "      <td>Patchy ill-defined opacities in the lung bases...</td>\n",
       "      <td>False</td>\n",
       "      <td>NaN</td>\n",
       "      <td>3</td>\n",
       "      <td>2</td>\n",
       "      <td>2</td>\n",
       "      <td>Retrained and 30-Shot Finetuned</td>\n",
       "      <td>1</td>\n",
       "    </tr>\n",
       "    <tr>\n",
       "      <th>349</th>\n",
       "      <td>dicom_80dc015b-0a343e90-3ab7872d-b7db12c3-8779...</td>\n",
       "      <td>80dc015b-0a343e90-3ab7872d-b7db12c3-8779c76c</td>\n",
       "      <td>53976240|5</td>\n",
       "      <td>Anterior costal calcifications project over a ...</td>\n",
       "      <td>False</td>\n",
       "      <td>NaN</td>\n",
       "      <td>1</td>\n",
       "      <td>1</td>\n",
       "      <td>1</td>\n",
       "      <td>Retrained and 30-Shot Finetuned</td>\n",
       "      <td>1</td>\n",
       "    </tr>\n",
       "  </tbody>\n",
       "</table>\n",
       "<p>362 rows × 11 columns</p>\n",
       "</div>"
      ],
      "text/plain": [
       "                                         dicom_sent_id  \\\n",
       "3    dicom_67bd451d-6f695b32-b8ce2be9-23c30cae-f6f9...   \n",
       "4    dicom_6bcf7ea1-7d6d22d2-acc8b8c1-846af6af-7884...   \n",
       "10   dicom_2ab3e8df-5ac8ae5f-70507d62-07ff69fd-f892...   \n",
       "14   dicom_656a0ed5-94e2b62f-3116829b-785e87f2-aead...   \n",
       "18   dicom_600b88e8-cdeb206f-24980db9-a88d5336-a9ab...   \n",
       "..                                                 ...   \n",
       "328  dicom_2d40e27c-e780bb33-132a089e-a59bbe05-5640...   \n",
       "334  dicom_7325a4ad-56c62704-bb44d9f9-a7bc288f-b195...   \n",
       "339  dicom_1290ac09-084d443b-579443d1-e276c5df-2d4e...   \n",
       "340  dicom_10cb57fc-b95678a1-0b994bae-d6efb434-5710...   \n",
       "349  dicom_80dc015b-0a343e90-3ab7872d-b7db12c3-8779...   \n",
       "\n",
       "                                         dicom_id      sent_id  \\\n",
       "3    67bd451d-6f695b32-b8ce2be9-23c30cae-f6f94270   53209617|7   \n",
       "4    6bcf7ea1-7d6d22d2-acc8b8c1-846af6af-78841c71   59788377|9   \n",
       "10   2ab3e8df-5ac8ae5f-70507d62-07ff69fd-f8926559   51426244|7   \n",
       "14   656a0ed5-94e2b62f-3116829b-785e87f2-aead6091   59701436|4   \n",
       "18   600b88e8-cdeb206f-24980db9-a88d5336-a9ab05ba   53343765|5   \n",
       "..                                            ...          ...   \n",
       "328  2d40e27c-e780bb33-132a089e-a59bbe05-564002e6  57148763|12   \n",
       "334  7325a4ad-56c62704-bb44d9f9-a7bc288f-b195b550   58313672|6   \n",
       "339  1290ac09-084d443b-579443d1-e276c5df-2d4ee178  50889933|10   \n",
       "340  10cb57fc-b95678a1-0b994bae-d6efb434-57103f95  59012265|16   \n",
       "349  80dc015b-0a343e90-3ab7872d-b7db12c3-8779c76c   53976240|5   \n",
       "\n",
       "                                                prompt  is_custom_prompt  \\\n",
       "3               Small left pleural effusion is likely.             False   \n",
       "4                              The aorta is calcified.             False   \n",
       "10                         Mild cardiomegaly is noted.             False   \n",
       "14   Right hemidiaphragm is moderately elevated, a ...             False   \n",
       "18   Extensive consolidation in the left lung also ...             False   \n",
       "..                                                 ...               ...   \n",
       "328  Chronic AP window calcified lymph node would n...             False   \n",
       "334  Increasing opacities in the right base could r...             False   \n",
       "339  Slight blunting of the posterior costophrenic ...             False   \n",
       "340  Patchy ill-defined opacities in the lung bases...             False   \n",
       "349  Anterior costal calcifications project over a ...             False   \n",
       "\n",
       "     no_attn_score  Recall  Precision  Intuitiveness  \\\n",
       "3              NaN       4          1              1   \n",
       "4              NaN       1          1              1   \n",
       "10             NaN       5          1              1   \n",
       "14             NaN       1          1              1   \n",
       "18             NaN       4          2              1   \n",
       "..             ...     ...        ...            ...   \n",
       "328            NaN       5          1              2   \n",
       "334            NaN       1          1              1   \n",
       "339            NaN       1          1              1   \n",
       "340            NaN       3          2              2   \n",
       "349            NaN       1          1              1   \n",
       "\n",
       "                               Model  count  \n",
       "3                             GLoRIA      1  \n",
       "4                             GLoRIA      1  \n",
       "10                            GLoRIA      1  \n",
       "14                            GLoRIA      1  \n",
       "18                            GLoRIA      1  \n",
       "..                               ...    ...  \n",
       "328  Retrained and 30-Shot Finetuned      1  \n",
       "334  Retrained and 30-Shot Finetuned      1  \n",
       "339  Retrained and 30-Shot Finetuned      1  \n",
       "340  Retrained and 30-Shot Finetuned      1  \n",
       "349  Retrained and 30-Shot Finetuned      1  \n",
       "\n",
       "[362 rows x 11 columns]"
      ]
     },
     "execution_count": 27,
     "metadata": {},
     "output_type": "execute_result"
    }
   ],
   "source": [
    "df"
   ]
  },
  {
   "cell_type": "code",
   "execution_count": 28,
   "metadata": {},
   "outputs": [
    {
     "data": {
      "image/png": "[encoded data removed]",
      "text/plain": [
       "<Figure size 504x360 with 1 Axes>"
      ]
     },
     "metadata": {
      "needs_background": "light"
     },
     "output_type": "display_data"
    }
   ],
   "source": [
    "plt.figure(figsize=(7, 5))\n",
    "sns.barplot(\n",
    "    data=df[~df.is_custom_prompt].groupby(['Model', 'Recall']).sum().reset_index(),\n",
    "    x='Recall', y='count', hue='Model', hue_order=models.values())\n",
    "plt.savefig('recall.pdf')"
   ]
  },
  {
   "cell_type": "code",
   "execution_count": 29,
   "metadata": {},
   "outputs": [
    {
     "data": {
      "image/png": "[encoded data removed]",
      "text/plain": [
       "<Figure size 504x360 with 1 Axes>"
      ]
     },
     "metadata": {
      "needs_background": "light"
     },
     "output_type": "display_data"
    }
   ],
   "source": [
    "plt.figure(figsize=(7, 5))\n",
    "sns.barplot(\n",
    "    data=df[~df.is_custom_prompt].groupby(['Model', 'Precision']).sum().reset_index(),\n",
    "    x='Precision', y='count', hue='Model', hue_order=models.values())\n",
    "plt.savefig('precision.pdf')"
   ]
  },
  {
   "cell_type": "code",
   "execution_count": 30,
   "metadata": {},
   "outputs": [
    {
     "data": {
      "image/png": "[encoded data removed]",
      "text/plain": [
       "<Figure size 504x360 with 1 Axes>"
      ]
     },
     "metadata": {
      "needs_background": "light"
     },
     "output_type": "display_data"
    }
   ],
   "source": [
    "plt.figure(figsize=(7, 5))\n",
    "sns.barplot(\n",
    "    data=df[~df.is_custom_prompt].groupby(['Model', 'Intuitiveness']).sum().reset_index(),\n",
    "    x='Intuitiveness', y='count', hue='Model', hue_order=models.values())\n",
    "plt.savefig('intuitiveness.pdf')"
   ]
  },
  {
   "cell_type": "code",
   "execution_count": 31,
   "metadata": {},
   "outputs": [
    {
     "name": "stdout",
     "output_type": "stream",
     "text": [
      "Model & Recall & Precision & Intuitiveness\n",
      "\\hline\n",
      "GLoRIA & 3.14 & 1.84 & 1.68 \\\\\n",
      "Retrained & 1.98 & 1.86 & 1.7 \\\\\n",
      "Retrained w/ Word Masking & 1.8 & 1.76 & 1.56 \\\\\n",
      "Retrained w/ Clinical Masking & 1.72 & 1.78 & 1.6 \\\\\n",
      "Retrained w/ \"No Attn\" Token & 2.72 & 2.7 & 2.58 \\\\\n",
      "Retrained w/ Abnormal & 3.08 & 2.56 & 2.38 \\\\\n",
      "Retrained and 30-Shot Finetuned & 3.02 & 2.18 & 2.02 \\\\\n"
     ]
    }
   ],
   "source": [
    "print_latex_table(df[~df.is_custom_prompt].groupby(['Model']).mean().reset_index())"
   ]
  },
  {
   "cell_type": "code",
   "execution_count": 32,
   "metadata": {},
   "outputs": [
    {
     "data": {
      "image/png": "[encoded data removed]",
      "text/plain": [
       "<Figure size 504x360 with 1 Axes>"
      ]
     },
     "metadata": {
      "needs_background": "light"
     },
     "output_type": "display_data"
    }
   ],
   "source": [
    "plt.figure(figsize=(7, 5))\n",
    "sns.barplot(\n",
    "    data=df[df.is_custom_prompt].groupby(['Model', 'Recall']).sum().reset_index(),\n",
    "    x='Recall', y='count', hue='Model')\n",
    "plt.savefig('recall_custom.pdf')"
   ]
  },
  {
   "cell_type": "code",
   "execution_count": 33,
   "metadata": {},
   "outputs": [
    {
     "data": {
      "image/png": "[encoded data removed]",
      "text/plain": [
       "<Figure size 504x360 with 1 Axes>"
      ]
     },
     "metadata": {
      "needs_background": "light"
     },
     "output_type": "display_data"
    }
   ],
   "source": [
    "plt.figure(figsize=(7, 5))\n",
    "sns.barplot(\n",
    "    data=df[df.is_custom_prompt].groupby(['Model', 'Precision']).sum().reset_index(),\n",
    "    x='Precision', y='count', hue='Model')\n",
    "plt.savefig('precision_custom.pdf')"
   ]
  },
  {
   "cell_type": "code",
   "execution_count": 34,
   "metadata": {},
   "outputs": [
    {
     "data": {
      "image/png": "[encoded data removed]",
      "text/plain": [
       "<Figure size 504x360 with 1 Axes>"
      ]
     },
     "metadata": {
      "needs_background": "light"
     },
     "output_type": "display_data"
    }
   ],
   "source": [
    "plt.figure(figsize=(7, 5))\n",
    "sns.barplot(\n",
    "    data=df[df.is_custom_prompt].groupby(['Model', 'Intuitiveness']).sum().reset_index(),\n",
    "    x='Intuitiveness', y='count', hue='Model')\n",
    "plt.savefig('intuitiveness_custom.pdf')"
   ]
  },
  {
   "cell_type": "code",
   "execution_count": 35,
   "metadata": {},
   "outputs": [
    {
     "name": "stdout",
     "output_type": "stream",
     "text": [
      "Model & Recall & Precision & Intuitiveness\n",
      "\\hline\n",
      "GLoRIA & 3.8333333333333335 & 1.5 & 1.8333333333333333 \\\\\n",
      "Retrained w/ \"No Attn\" Token & 2.8333333333333335 & 2.6666666666666665 & 2.8333333333333335 \\\\\n"
     ]
    }
   ],
   "source": [
    "print_latex_table(df[df.is_custom_prompt].groupby(['Model']).mean().reset_index())"
   ]
  },
  {
   "cell_type": "code",
   "execution_count": null,
   "metadata": {},
   "outputs": [],
   "source": []
  }
 ],
 "metadata": {
  "kernelspec": {
   "display_name": "Python 3",
   "language": "python",
   "name": "python3"
  },
  "language_info": {
   "codemirror_mode": {
    "name": "ipython",
    "version": 3
   },
   "file_extension": ".py",
   "mimetype": "text/x-python",
   "name": "python",
   "nbconvert_exporter": "python",
   "pygments_lexer": "ipython3",
   "version": "3.8.5"
  }
 },
 "nbformat": 4,
 "nbformat_minor": 4
}
